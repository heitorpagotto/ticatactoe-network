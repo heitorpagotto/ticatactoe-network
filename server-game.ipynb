﻿{
 "cells": [
  {
   "cell_type": "code",
   "id": "initial_id",
   "metadata": {
    "collapsed": true,
    "ExecuteTime": {
     "end_time": "2025-05-14T11:24:55.438552Z",
     "start_time": "2025-05-14T11:24:50.264437Z"
    }
   },
   "source": [
    "from tictactoe import run_socket_server\n",
    "\n",
    "host = '127.0.0.1'\n",
    "port = 65435\n",
    "\n",
    "run_socket_server(host, port)"
   ],
   "outputs": [
    {
     "name": "stdout",
     "output_type": "stream",
     "text": [
      "Servidor iniciado\n"
     ]
    },
    {
     "ename": "OSError",
     "evalue": "[WinError 10057] A request to send or receive data was disallowed because the socket is not connected and (when sending on a datagram socket using a sendto call) no address was supplied",
     "output_type": "error",
     "traceback": [
      "\u001B[31m---------------------------------------------------------------------------\u001B[39m",
      "\u001B[31mOSError\u001B[39m                                   Traceback (most recent call last)",
      "\u001B[36mCell\u001B[39m\u001B[36m \u001B[39m\u001B[32mIn[1]\u001B[39m\u001B[32m, line 6\u001B[39m\n\u001B[32m      3\u001B[39m host = \u001B[33m'\u001B[39m\u001B[33m127.0.0.1\u001B[39m\u001B[33m'\u001B[39m\n\u001B[32m      4\u001B[39m port = \u001B[32m65435\u001B[39m\n\u001B[32m----> \u001B[39m\u001B[32m6\u001B[39m \u001B[43mrun_socket_server\u001B[49m\u001B[43m(\u001B[49m\u001B[43mhost\u001B[49m\u001B[43m,\u001B[49m\u001B[43m \u001B[49m\u001B[43mport\u001B[49m\u001B[43m)\u001B[49m\n",
      "\u001B[36mFile \u001B[39m\u001B[32m~\\Documents\\Projects\\ticatactoe-network\\tictactoe.py:266\u001B[39m, in \u001B[36mrun_socket_server\u001B[39m\u001B[34m(host, port)\u001B[39m\n\u001B[32m    263\u001B[39m conn, addr = sock.accept()\n\u001B[32m    265\u001B[39m \u001B[38;5;66;03m# aguarda resposta do server conectado para receber a chave pública\u001B[39;00m\n\u001B[32m--> \u001B[39m\u001B[32m266\u001B[39m client_raw_response = \u001B[43msock\u001B[49m\u001B[43m.\u001B[49m\u001B[43mrecv\u001B[49m\u001B[43m(\u001B[49m\u001B[32;43m1024\u001B[39;49m\u001B[43m)\u001B[49m\n\u001B[32m    267\u001B[39m client_data = json.loads(client_raw_response.decode())\n\u001B[32m    268\u001B[39m client_pub_key = [client_data[\u001B[33m\"\u001B[39m\u001B[33mn\u001B[39m\u001B[33m\"\u001B[39m], client_data[\u001B[33m\"\u001B[39m\u001B[33me\u001B[39m\u001B[33m\"\u001B[39m]]\n",
      "\u001B[31mOSError\u001B[39m: [WinError 10057] A request to send or receive data was disallowed because the socket is not connected and (when sending on a datagram socket using a sendto call) no address was supplied"
     ]
    }
   ],
   "execution_count": 1
  }
 ],
 "metadata": {
  "kernelspec": {
   "display_name": "Python 3",
   "language": "python",
   "name": "python3"
  },
  "language_info": {
   "codemirror_mode": {
    "name": "ipython",
    "version": 2
   },
   "file_extension": ".py",
   "mimetype": "text/x-python",
   "name": "python",
   "nbconvert_exporter": "python",
   "pygments_lexer": "ipython2",
   "version": "2.7.6"
  }
 },
 "nbformat": 4,
 "nbformat_minor": 5
}
