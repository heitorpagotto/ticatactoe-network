﻿{
 "cells": [
  {
   "cell_type": "code",
   "id": "initial_id",
   "metadata": {
    "collapsed": true,
    "ExecuteTime": {
     "end_time": "2025-05-15T23:48:09.201784Z",
     "start_time": "2025-05-15T23:47:44.034257Z"
    }
   },
   "source": [
    "from tictactoe import run_socket_client\n",
    "\n",
    "host = '192.168.231.93'\n",
    "port = 65435\n",
    "\n",
    "run_socket_client(host, port)"
   ],
   "outputs": [
    {
     "name": "stdout",
     "output_type": "stream",
     "text": [
      "Player 2 conectado > 192.168.231.93:65435\n",
      "Player 2 conexão completa\n",
      "Você é o jogador O\n",
      "\n",
      "\n",
      "    |   |    \n",
      "----+---+----\n",
      "    |   |    \n",
      "----+---+----\n",
      "    |   |    \n",
      "\n",
      "\n",
      "Vez do jogador: X\n",
      "\n",
      "\n",
      "    | X |    \n",
      "----+---+----\n",
      "    |   |    \n",
      "----+---+----\n",
      "    |   |    \n",
      "\n",
      "\n",
      "Vez do jogador: O\n",
      "\n",
      "\n",
      "    | X |    \n",
      "----+---+----\n",
      "    | O |    \n",
      "----+---+----\n",
      "    |   |    \n",
      "\n",
      "\n",
      "Vez do jogador: X\n",
      "\n",
      "\n",
      "    | X | X  \n",
      "----+---+----\n",
      "    | O |    \n",
      "----+---+----\n",
      "    |   |    \n",
      "\n",
      "\n",
      "Vez do jogador: O\n",
      "\n",
      "\n",
      "    | X | X  \n",
      "----+---+----\n",
      "    | O | O  \n",
      "----+---+----\n",
      "    |   |    \n",
      "\n",
      "\n",
      "Vez do jogador: X\n",
      "\n",
      "\n",
      "    | X | X  \n",
      "----+---+----\n",
      "    | O | O  \n",
      "----+---+----\n",
      "  X |   |    \n",
      "\n",
      "\n",
      "Vez do jogador: O\n",
      "\n",
      "\n",
      "    | X | X  \n",
      "----+---+----\n",
      "  O | O | O  \n",
      "----+---+----\n",
      "  X |   |    \n",
      "\n",
      "\n",
      "Jogador O venceu!\n"
     ]
    }
   ],
   "execution_count": 3
  }
 ],
 "metadata": {
  "kernelspec": {
   "display_name": "Python 3",
   "language": "python",
   "name": "python3"
  },
  "language_info": {
   "codemirror_mode": {
    "name": "ipython",
    "version": 2
   },
   "file_extension": ".py",
   "mimetype": "text/x-python",
   "name": "python",
   "nbconvert_exporter": "python",
   "pygments_lexer": "ipython2",
   "version": "2.7.6"
  }
 },
 "nbformat": 4,
 "nbformat_minor": 5
}
